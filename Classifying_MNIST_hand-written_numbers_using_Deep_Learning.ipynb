{
 "cells": [
  {
   "cell_type": "markdown",
   "metadata": {
    "id": "CCuEcViz2o-A"
   },
   "source": [
    "\n",
    "<h1><center><u> MNIST in Keras </u></center></h1>"
   ]
  },
  {
   "cell_type": "markdown",
   "metadata": {},
   "source": [
    "### To use Image Classification Techniques to identify hand written digits."
   ]
  },
  {
   "cell_type": "code",
   "execution_count": 1,
   "metadata": {
    "id": "wLMggFI1Pa2s"
   },
   "outputs": [],
   "source": [
    "%matplotlib inline"
   ]
  },
  {
   "cell_type": "markdown",
   "metadata": {
    "id": "cW7acJ7uPa23"
   },
   "source": [
    "To help you understand the fundamentals of deep learning, this demo will walk through the basic steps of building two toy models for classifying handwritten numbers with accuracies surpassing 95%. The first model will be a basic fully-connected neural network, and the second model will be a deeper network that introduces the concepts of convolution and pooling."
   ]
  },
  {
   "cell_type": "markdown",
   "metadata": {
    "id": "aw7QJrv2Pa26"
   },
   "source": [
    "## **The Task for the Artificial Intelligence**\n",
    "\n",
    "Our goal is to construct and train an artificial neural network on thousands of images of handwritten digits so that it may successfully identify others when presented. The data that will be incorporated is the MNIST database which contains 60,000 images for training and 10,000 test images. We will use the Keras Python API with TensorFlow as the backend."
   ]
  },
  {
   "cell_type": "markdown",
   "metadata": {
    "id": "dESzL9_GPa27"
   },
   "source": [
    "<img src=\"https://github.com/AviatorMoser/keras-mnist-tutorial/blob/master/mnist.png?raw=1\" >"
   ]
  },
  {
   "cell_type": "markdown",
   "metadata": {
    "id": "Pkfo6b01Pa28"
   },
   "source": [
    "## **Prerequisite Python Modules**\n",
    "\n",
    "First, some software needs to be loaded into the Python environment."
   ]
  },
  {
   "cell_type": "code",
   "execution_count": 2,
   "metadata": {
    "id": "IKP5XYxEPa2-"
   },
   "outputs": [],
   "source": [
    "import numpy as np                   # advanced math library\n",
    "import matplotlib.pyplot as plt      # MATLAB like plotting routines\n",
    "import random                        # for generating random numbers\n",
    "\n",
    "from keras.datasets import mnist     # MNIST dataset is included in Keras\n",
    "from keras.models import Sequential  # Model type to be used\n",
    "\n",
    "from keras.layers.core import Dense, Dropout, Activation # Types of layers to be used in our model\n",
    "from keras.utils import np_utils                         # NumPy related tools"
   ]
  },
  {
   "cell_type": "markdown",
   "metadata": {
    "id": "HrnAU-lhPa3A"
   },
   "source": [
    "## **Loading Training Data**\n",
    "\n",
    "The MNIST dataset is conveniently bundled within Keras, and we can easily analyze some of its features in Python."
   ]
  },
  {
   "cell_type": "code",
   "execution_count": 3,
   "metadata": {
    "colab": {
     "base_uri": "https://localhost:8080/"
    },
    "id": "-lVL9TD5Pa3C",
    "outputId": "6d98d67f-b4ca-48e1-8ff3-612f931b49c4"
   },
   "outputs": [
    {
     "name": "stdout",
     "output_type": "stream",
     "text": [
      "Downloading data from https://storage.googleapis.com/tensorflow/tf-keras-datasets/mnist.npz\n",
      "11490434/11490434 [==============================] - 0s 0us/step\n",
      "X_train shape (60000, 28, 28)\n",
      "y_train shape (60000,)\n",
      "X_test shape (10000, 28, 28)\n",
      "y_test shape (10000,)\n"
     ]
    }
   ],
   "source": [
    "# The MNIST data is split between 60,000 28 x 28 pixel training images and 10,000 28 x 28 pixel images\n",
    "(X_train, y_train), (X_test, y_test) = mnist.load_data()\n",
    "\n",
    "print(\"X_train shape\", X_train.shape)\n",
    "print(\"y_train shape\", y_train.shape)\n",
    "print(\"X_test shape\", X_test.shape)\n",
    "print(\"y_test shape\", y_test.shape)"
   ]
  },
  {
   "cell_type": "markdown",
   "metadata": {
    "id": "Hotj52SwPa3E"
   },
   "source": [
    "Using matplotlib, we can plot some sample images from the training set directly into this Jupyter Notebook."
   ]
  },
  {
   "cell_type": "code",
   "execution_count": 4,
   "metadata": {
    "colab": {
     "base_uri": "https://localhost:8080/",
     "height": 657
    },
    "id": "fs1InLXjPa3H",
    "outputId": "b41a2c70-f587-4172-cb24-a8bb8b279df6"
   },
   "outputs": [
    {
     "data": {
      "image/png": "[encoded data removed]",
      "text/plain": [
       "<Figure size 648x648 with 9 Axes>"
      ]
     },
     "metadata": {
      "needs_background": "light"
     },
     "output_type": "display_data"
    }
   ],
   "source": [
    "plt.rcParams['figure.figsize'] = (9,9) # Make the figures a bit bigger\n",
    "\n",
    "for i in range(9):\n",
    "    plt.subplot(3,3,i+1)\n",
    "    num = random.randint(0, len(X_train))\n",
    "    plt.imshow(X_train[num], cmap='gray', interpolation='none')\n",
    "    plt.title(\"Class {}\".format(y_train[num]))\n",
    "    \n",
    "plt.tight_layout()"
   ]
  },
  {
   "cell_type": "markdown",
   "metadata": {
    "id": "D2DDRGW0Pa3J"
   },
   "source": [
    "Let's examine a single digit a little closer, and print out the array representing the last digit."
   ]
  },
  {
   "cell_type": "code",
   "execution_count": 5,
   "metadata": {
    "colab": {
     "base_uri": "https://localhost:8080/"
    },
    "id": "g76qFdwsPa3K",
    "outputId": "f05dab98-747f-4cc5-dd82-51bc4cd68fcd"
   },
   "outputs": [
    {
     "name": "stdout",
     "output_type": "stream",
     "text": [
      "0  0  0  0  0  0  0    0    0    0    0    0    0    0    0    0    0    0    0    0    0    0   0  0  0  0  0  0  \n",
      "0  0  0  0  0  0  0    0    0    0    0    0    0    0    0    0    0    0    0    0    0    0   0  0  0  0  0  0  \n",
      "0  0  0  0  0  0  0    0    0    0    0    0    0    0    0    0    0    0    0    0    0    0   0  0  0  0  0  0  \n",
      "0  0  0  0  0  0  0    0    0    0    0    0    0    0    0    0    0    0    0    0    0    0   0  0  0  0  0  0  \n",
      "0  0  0  0  0  0  0    0    0    0    0    0    0    0    0    0    0    0    0    0    0    0   0  0  0  0  0  0  \n",
      "0  0  0  0  0  0  0    0    0    0    0    0    0    0    0    0    0    0    0    0    0    0   0  0  0  0  0  0  \n",
      "0  0  0  0  0  0  0    0    0    0    0    0    0   55  134  217  254  254  254  254  156   47   0  0  0  0  0  0  \n",
      "0  0  0  0  0  0  0    0    0    0    5   73  214  250  253  234  233  233  218  173  254  218   0  0  0  0  0  0  \n",
      "0  0  0  0  0  0  0    0    0    0  156  253  253  240  100    0    0    0    0    0  254  247  54  0  0  0  0  0  \n",
      "0  0  0  0  0  0  0    0    7  152  254  253  240   68    0    0    0    0    0    0  254  253  78  0  0  0  0  0  \n",
      "0  0  0  0  0  0  0    0  115  253  254  200   40    0    0    0    0    0   68  195  254  245  48  0  0  0  0  0  \n",
      "0  0  0  0  0  0  0   19  239  254  241   68    0    0    0   37  104  186  254  254  255  114   0  0  0  0  0  0  \n",
      "0  0  0  0  0  0  0  161  253  253  222  118  118  170  214  239  253  253  253  253   76    6   0  0  0  0  0  0  \n",
      "0  0  0  0  0  0  0  108  253  253  254  253  253  253  253  254  253  253  253  222    0    0   0  0  0  0  0  0  \n",
      "0  0  0  0  0  0  0    6  161  213  254  234  213  213  176  254  253  253  247   56    0    0   0  0  0  0  0  0  \n",
      "0  0  0  0  0  0  0    0    0    0   58   31    0    0   38  254  253  253  176    0    0    0   0  0  0  0  0  0  \n",
      "0  0  0  0  0  0  0    0    0    0    0    0    0   70  231  255  254  152    0    0    0    0   0  0  0  0  0  0  \n",
      "0  0  0  0  0  0  0    0    0    0    0    0   44  243  253  254  145   12    0    0    0    0   0  0  0  0  0  0  \n",
      "0  0  0  0  0  0  0    0    0    0    0   14  229  253  253  254   39    0    0    0    0    0   0  0  0  0  0  0  \n",
      "0  0  0  0  0  0  0    0    0    0   10  168  253  253  253   95    3    0    0    0    0    0   0  0  0  0  0  0  \n",
      "0  0  0  0  0  0  0    0    0    0   97  253  253  253  139    0    0    0    0    0    0    0   0  0  0  0  0  0  \n",
      "0  0  0  0  0  0  0    0    0   61  255  254  254  184   23    0    0    0    0    0    0    0   0  0  0  0  0  0  \n",
      "0  0  0  0  0  0  0    0   26  207  254  253  247   18    0    0    0    0    0    0    0    0   0  0  0  0  0  0  \n",
      "0  0  0  0  0  0  0    0  136  253  254  239   54    0    0    0    0    0    0    0    0    0   0  0  0  0  0  0  \n",
      "0  0  0  0  0  0  0    0  227  253  244   85    0    0    0    0    0    0    0    0    0    0   0  0  0  0  0  0  \n",
      "0  0  0  0  0  0  0    0  159  253  157    0    0    0    0    0    0    0    0    0    0    0   0  0  0  0  0  0  \n",
      "0  0  0  0  0  0  0    0    0    0    0    0    0    0    0    0    0    0    0    0    0    0   0  0  0  0  0  0  \n",
      "0  0  0  0  0  0  0    0    0    0    0    0    0    0    0    0    0    0    0    0    0    0   0  0  0  0  0  0  \n"
     ]
    }
   ],
   "source": [
    "# just a little function for pretty printing a matrix\n",
    "def matprint(mat, fmt=\"g\"):\n",
    "    col_maxes = [max([len((\"{:\"+fmt+\"}\").format(x)) for x in col]) for col in mat.T]\n",
    "    for x in mat:\n",
    "        for i, y in enumerate(x):\n",
    "            print((\"{:\"+str(col_maxes[i])+fmt+\"}\").format(y), end=\"  \")\n",
    "        print(\"\")\n",
    "\n",
    "# now print!        \n",
    "matprint(X_train[num])"
   ]
  },
  {
   "cell_type": "markdown",
   "metadata": {
    "id": "W5nqWN4SPa3L"
   },
   "source": [
    "Each pixel is an 8-bit integer from 0-255. 0 is full black, while 255 is full white. This what we call a single-channel pixel. It's called monochrome.\n",
    "\n",
    "*Fun-fact! Your computer screen has three channels for each pixel: red, green, blue. Each of these channels also likely takes an 8-bit integer. 3 channels -- 24 bits total -- 16,777,216 possible colors!*"
   ]
  },
  {
   "cell_type": "markdown",
   "metadata": {
    "id": "1dDWMOlXPa3M"
   },
   "source": [
    "## **Formatting the input data layer**\n",
    "\n",
    "The **flattening step** is a refreshingly simple step involved in building a convolutional neural network.\n",
    "\n",
    "It involves taking the pooled feature map that is generated in the pooling step and transforming it into a one-dimensional vector.\n",
    "\n",
    "The reason why we transform the pooled feature map into a one-dimensional vector is because this vector will now be fed into an artificial neural network. Said differently, this vector will now become the input layer of an artificial neural network that will be chained onto the convolutional neural network we've been building so far in this course.\n",
    "\n",
    "In our data, Instead of a 28 x 28 matrix, we build our network to accept a 784-length vector.\n",
    "\n",
    "Each image needs to be then reshaped (or flattened) into a vector. We'll also normalize the inputs to be in the range [0-1] rather than [0-255]. Normalizing inputs is generally recommended, so that any additional dimensions (for other network architectures) are of the same scale."
   ]
  },
  {
   "cell_type": "markdown",
   "metadata": {
    "id": "XssF3FFSPa3N"
   },
   "source": [
    "<img src='https://github.com/AviatorMoser/keras-mnist-tutorial/blob/master/flatten.png?raw=1' >"
   ]
  },
  {
   "cell_type": "code",
   "execution_count": 6,
   "metadata": {
    "colab": {
     "base_uri": "https://localhost:8080/"
    },
    "id": "e_WdsG_1Pa3N",
    "outputId": "00759a3f-e795-401d-e54d-815b0ed8ad87"
   },
   "outputs": [
    {
     "name": "stdout",
     "output_type": "stream",
     "text": [
      "Training matrix shape (60000, 784)\n",
      "Testing matrix shape (10000, 784)\n"
     ]
    }
   ],
   "source": [
    "X_train = X_train.reshape(60000, 784) # reshape 60,000 28 x 28 matrices into 60,000 784-length vectors.\n",
    "X_test = X_test.reshape(10000, 784)   # reshape 10,000 28 x 28 matrices into 10,000 784-length vectors.\n",
    "\n",
    "X_train = X_train.astype('float32')   # change integers to 32-bit floating point numbers\n",
    "X_test = X_test.astype('float32')\n",
    "\n",
    "X_train /= 255                        # normalize each value for each pixel for the entire vector for each input\n",
    "X_test /= 255\n",
    "\n",
    "print(\"Training matrix shape\", X_train.shape)\n",
    "print(\"Testing matrix shape\", X_test.shape)"
   ]
  },
  {
   "cell_type": "markdown",
   "metadata": {
    "id": "-GUYSiiLPa3O"
   },
   "source": [
    "We then modify our classes (unique digits) to be in the one-hot format, i.e.\n",
    "\n",
    "```\n",
    "0 -> [1, 0, 0, 0, 0, 0, 0, 0, 0]\n",
    "1 -> [0, 1, 0, 0, 0, 0, 0, 0, 0]\n",
    "2 -> [0, 0, 1, 0, 0, 0, 0, 0, 0]\n",
    "etc.\n",
    "```\n",
    "\n",
    "If the final output of our network is very close to one of these classes, then it is most likely that class. For example, if the final output is:\n",
    "\n",
    "```\n",
    "[0, 0.94, 0, 0, 0, 0, 0.06, 0, 0]\n",
    "```\n",
    "then it is most probable that the image is that of the digit `1`."
   ]
  },
  {
   "cell_type": "code",
   "execution_count": 7,
   "metadata": {
    "collapsed": true,
    "id": "XBmFvBgKPa3P"
   },
   "outputs": [],
   "source": [
    "nb_classes = 10 # number of unique digits\n",
    "\n",
    "Y_train = np_utils.to_categorical(y_train, nb_classes)\n",
    "Y_test = np_utils.to_categorical(y_test, nb_classes)"
   ]
  },
  {
   "cell_type": "markdown",
   "metadata": {
    "id": "iBRFZZXaPa3P"
   },
   "source": [
    "## **Building a 3-layer fully connected network (FCN)**\n",
    "\n",
    "<img src=\"https://github.com/AviatorMoser/keras-mnist-tutorial/blob/master/figure.png?raw=1\" />"
   ]
  },
  {
   "cell_type": "markdown",
   "metadata": {
    "id": "2IFZK7kZ9K7P"
   },
   "source": [
    "**What is sequential model?**\n",
    "\n",
    "A Sequential model is appropriate for a plain stack of layers where each layer has exactly one input tensor and one output tensor. Schematically, the following Sequential model: "
   ]
  },
  {
   "cell_type": "code",
   "execution_count": 8,
   "metadata": {
    "collapsed": true,
    "id": "9MdSbl_zPa3Q"
   },
   "outputs": [],
   "source": [
    "# The Sequential model is a linear stack of layers and is very common.\n",
    "\n",
    "model = Sequential()"
   ]
  },
  {
   "cell_type": "markdown",
   "metadata": {
    "id": "BEniUtGIPa3R"
   },
   "source": [
    "## **The first hidden layer**"
   ]
  },
  {
   "cell_type": "markdown",
   "metadata": {
    "id": "kssGbFYg94nZ"
   },
   "source": [
    "The **hidden layers** of a CNN typically consist of convolutional layers, pooling layers, fully connected layers, and normalization layers. Here it simply means that instead of using the normal activation functions defined above, convolution and pooling functions are used as activation functions."
   ]
  },
  {
   "cell_type": "markdown",
   "metadata": {
    "id": "djSNGa489l4j"
   },
   "source": [
    "**Dense Layer** is simple layer of neurons in which each neuron receives input from all the neurons of previous layer, thus called as dense. Dense Layer is used to classify image based on output from convolutional layers. Working of single neuron. A layer contains multiple number of such neurons."
   ]
  },
  {
   "cell_type": "code",
   "execution_count": 9,
   "metadata": {
    "collapsed": true,
    "id": "oWPKog3HPa3S"
   },
   "outputs": [],
   "source": [
    "# The first hidden layer is a set of 512 nodes (artificial neurons).\n",
    "# Each node will receive an element from each input vector and apply some weight and bias to it.\n",
    "\n",
    "model.add(Dense(512, input_shape=(784,))) #(784,) is not a typo -- that represents a 784 length vector!"
   ]
  },
  {
   "cell_type": "markdown",
   "metadata": {
    "id": "8DWjK8g4_B49"
   },
   "source": [
    "## **Activation function**\n",
    "**The activation function** compares the input value to a threshold value. If the input value is greater than the threshold value, the neuron is activated. It's disabled if the input value is less than the threshold value, which means its output isn't sent on to the next or hidden layer.\n",
    "\n",
    "**Why do we need activation functions?**\n",
    " \n",
    "An activation function determines if a neuron should be activated or not activated. This implies that it will use some simple mathematical operations to determine if the neuron’s input to the network is relevant or not relevant in the prediction process.\n",
    "\n",
    "The ability to introduce non-linearity to an artificial neural network and generate output from a collection of input values fed to a layer is the purpose of the activation function."
   ]
  },
  {
   "cell_type": "markdown",
   "metadata": {
    "id": "Zb3kmq2r_o5A"
   },
   "source": [
    "**Types of Activation functions**\n",
    " \n",
    "Activation functions can be divided into three types:\n",
    "\n",
    "Linear Activation Function\n",
    "Binary Step Function\n",
    "Non-linear Activation Functions"
   ]
  },
  {
   "cell_type": "markdown",
   "metadata": {
    "id": "6_i4Lcxl_ryU"
   },
   "source": [
    "**Linear Activation Function**\n",
    " \n",
    "The linear activation function, often called the identity activation function, is proportional to the input. The range of the linear activation function will be (-∞ to ∞). The linear activation function simply adds up the weighted total of the inputs and returns the result"
   ]
  },
  {
   "cell_type": "markdown",
   "metadata": {
    "id": "ouxbUqhB_r84"
   },
   "source": [
    "**Binary Step Activation Function**\n",
    " \n",
    "A threshold value determines whether a neuron should be activated or not activated in a binary step activation function.\n",
    "\n",
    "The activation function compares the input value to a threshold value. If the input value is greater than the threshold value, the neuron is activated. It’s disabled if the input value is less than the threshold value, which means its output isn’t sent on to the next or hidden layer."
   ]
  },
  {
   "cell_type": "markdown",
   "metadata": {
    "id": "Y0HpSMVN_sA1"
   },
   "source": [
    "**Non-linear Activation Functions**\n",
    " \n",
    "The non-linear activation functions are the most-used activation functions. They make it uncomplicated for an artificial neural network model to adapt to a variety of data and to differentiate between the outputs.\n",
    "\n",
    "Non-linear activation functions allow the stacking of multiple layers of neurons, as the output would now be a non-linear combination of input passed through multiple layers. Any output can be represented as a functional computation output in a neural network.\n",
    "\n",
    "These activation functions are mainly divided basis on their range and curves. The remainder of this article will outline the major non-linear activiation functions used in neural networks."
   ]
  },
  {
   "cell_type": "markdown",
   "metadata": {
    "id": "9hGTKScE_sEb"
   },
   "source": [
    "**1. Sigmoid**\n",
    " \n",
    "Sigmoid accepts a number as input and returns a number between 0 and 1. It’s simple to use and has all the desirable qualities of activation functions: nonlinearity, continuous differentiation, monotonicity, and a set output range.\n",
    "\n",
    "$$\n",
    "  f(x) = \\frac{1}{1\\ –\\ e^{-x}}\n",
    "$$\n",
    "\n",
    "Where “$n$” is the value of the hidden layer node, the same as the first equation above. This transfer function allows the output to model non-linear system behavior, which most real-world problems will exhibit\n",
    "This is mainly used in binary classification problems. This sigmoid function gives the probability of an existence of a particular class."
   ]
  },
  {
   "cell_type": "markdown",
   "metadata": {
    "id": "wrahJzrE_sIG"
   },
   "source": [
    "**2.TanH (Hyperbolic Tangent)**\n",
    " \n",
    "TanH compress a real-valued number to the range [-1, 1]. It’s non-linear, But it’s different from Sigmoid,and its output is zero-centered. The main advantage of this is that the negative inputs will be mapped strongly to the negative and zero inputs will be mapped to almost zero in the graph of TanH."
   ]
  },
  {
   "cell_type": "markdown",
   "metadata": {
    "id": "zHqD8Z3WAUCw"
   },
   "source": [
    "**3.ReLU (Rectified Linear Unit)**\n",
    " \n",
    "ReLU stands for Rectified Linear Unit and is one of the most commonly used activation function in the applications. It’s solved the problem of vanishing gradient because the maximum value of the gradient of ReLU function is one. It also solved the problem of saturating neuron, since the slope is never zero for ReLU function. The range of ReLU is between 0 and infinity."
   ]
  },
  {
   "cell_type": "markdown",
   "metadata": {
    "id": "1l6i33WIAUGk"
   },
   "source": [
    "**4.Leaky ReLU**\n",
    " \n",
    "Leaky ReLU is an upgraded version of the ReLU activation function to solve the dying ReLU problem, as it has a small positive slope in the negative area. But, the consistency of the benefit across tasks is presently ambiguous."
   ]
  },
  {
   "cell_type": "markdown",
   "metadata": {
    "id": "39Kum_vAAUKg"
   },
   "source": [
    "**5. Softmax**\n",
    " \n",
    "A combination of many sigmoids is referred to as the Softmax function. It determines relative probability. Similar to the sigmoid activation function, the Softmax function returns the probability of each class/labels. In multi-class classification, softmax activation function is most commonly used for the last layer of the neural network.\n",
    "\n",
    "The softmax function gives the probability of the current class with respect to others. This means that it also considers the possibility of other classes too."
   ]
  },
  {
   "cell_type": "markdown",
   "metadata": {
    "id": "ZgJLA_SyMm7S"
   },
   "source": [
    "**Important Considerations on Activation function**\n",
    " \n",
    "While choosing the proper activation function, the following problems and issues must be considered:\n",
    "\n",
    "Vanishing gradient is a common problem encountered during neural network training. Like a sigmoid activation function, some activation functions have a small output range (0 to 1). So a huge change in the input of the sigmoid activation function will create a small modification in the output. Therefore, the derivative also becomes small. These activation functions are only used for shallow networks with only a few layers. When these activation functions are applied to a multi-layer network, the gradient may become too small for expected training.\n",
    "\n",
    "Exploding gradients are situations in which massive incorrect gradients build during training, resulting in huge updates to neural network model weights. When there are exploding gradients, an unstable network might form, and training cannot be completed. Due to exploding gradients, the weights’ values can potentially grow to the point where they overflow, resulting in loss in NaN values."
   ]
  },
  {
   "cell_type": "code",
   "execution_count": 10,
   "metadata": {
    "collapsed": true,
    "id": "va7CjbJQPa3T"
   },
   "outputs": [],
   "source": [
    "# An \"activation\" is a non-linear function applied to the output of the layer above.\n",
    "# It checks the new value of the node, and decides whether that artifical neuron has fired.\n",
    "# The Rectified Linear Unit (ReLU) converts all negative inputs to nodes in the next layer to be zero.\n",
    "# Those inputs are then not considered to be fired.\n",
    "# Positive values of a node are unchanged.\n",
    "\n",
    "model.add(Activation('relu'))"
   ]
  },
  {
   "cell_type": "markdown",
   "metadata": {
    "id": "P42_lb55Pa3U"
   },
   "source": [
    "$$f(x) = max (0,x)$$"
   ]
  },
  {
   "cell_type": "markdown",
   "metadata": {
    "id": "vlD_BHGROx4b"
   },
   "source": [
    "**Dropout** is a technique where randomly selected neurons are ignored during training. They are “dropped out” randomly. This means that their contribution to the activation of downstream neurons is temporally removed on the forward pass, and any weight updates are not applied to the neuron on the backward pass."
   ]
  },
  {
   "cell_type": "code",
   "execution_count": 11,
   "metadata": {
    "collapsed": true,
    "id": "ykE7VF4TPa3U"
   },
   "outputs": [],
   "source": [
    "# Dropout zeroes a selection of random outputs (i.e., disables their activation)\n",
    "# Dropout helps protect the model from memorizing or \"overfitting\" the training data.\n",
    "model.add(Dropout(0.2))"
   ]
  },
  {
   "cell_type": "markdown",
   "metadata": {
    "id": "Iidtl0a2Pa3U"
   },
   "source": [
    "## **Adding the second hidden layer**"
   ]
  },
  {
   "cell_type": "code",
   "execution_count": 12,
   "metadata": {
    "collapsed": true,
    "id": "ThnCXR8bPa3V"
   },
   "outputs": [],
   "source": [
    "# The second hidden layer appears identical to our first layer.\n",
    "# However, instead of each of the 512-node receiving 784-inputs from the input image data,\n",
    "# they receive 512 inputs from the output of the first 512-node layer.\n",
    "\n",
    "model.add(Dense(512))\n",
    "model.add(Activation('relu'))\n",
    "model.add(Dropout(0.2))"
   ]
  },
  {
   "cell_type": "markdown",
   "metadata": {
    "id": "jATO0ueYPa3W"
   },
   "source": [
    "## **The Final Output Layer**"
   ]
  },
  {
   "cell_type": "code",
   "execution_count": 13,
   "metadata": {
    "collapsed": true,
    "id": "JmojYL8kPa3X"
   },
   "outputs": [],
   "source": [
    "# The final layer of 10 neurons in fully-connected to the previous 512-node layer.\n",
    "# The final layer of a FCN should be equal to the number of desired classes (10 in this case).\n",
    "model.add(Dense(10))"
   ]
  },
  {
   "cell_type": "code",
   "execution_count": 14,
   "metadata": {
    "collapsed": true,
    "id": "9ywvIpi3Pa3Z"
   },
   "outputs": [],
   "source": [
    "# The \"softmax\" activation represents a probability distribution over K different possible outcomes.\n",
    "# Its values are all non-negative and sum to 1.\n",
    "\n",
    "model.add(Activation('softmax'))"
   ]
  },
  {
   "cell_type": "code",
   "execution_count": 15,
   "metadata": {
    "colab": {
     "base_uri": "https://localhost:8080/"
    },
    "id": "152RhuH7Pa3Z",
    "outputId": "2fa6e5d7-a99d-4bb9-f6a9-13eddfa2d181"
   },
   "outputs": [
    {
     "name": "stdout",
     "output_type": "stream",
     "text": [
      "Model: \"sequential\"\n",
      "_________________________________________________________________\n",
      " Layer (type)                Output Shape              Param #   \n",
      "=================================================================\n",
      " dense (Dense)               (None, 512)               401920    \n",
      "                                                                 \n",
      " activation (Activation)     (None, 512)               0         \n",
      "                                                                 \n",
      " dropout (Dropout)           (None, 512)               0         \n",
      "                                                                 \n",
      " dense_1 (Dense)             (None, 512)               262656    \n",
      "                                                                 \n",
      " activation_1 (Activation)   (None, 512)               0         \n",
      "                                                                 \n",
      " dropout_1 (Dropout)         (None, 512)               0         \n",
      "                                                                 \n",
      " dense_2 (Dense)             (None, 10)                5130      \n",
      "                                                                 \n",
      " activation_2 (Activation)   (None, 10)                0         \n",
      "                                                                 \n",
      "=================================================================\n",
      "Total params: 669,706\n",
      "Trainable params: 669,706\n",
      "Non-trainable params: 0\n",
      "_________________________________________________________________\n"
     ]
    }
   ],
   "source": [
    "# Summarize the built model\n",
    "\n",
    "model.summary()"
   ]
  },
  {
   "cell_type": "markdown",
   "metadata": {
    "id": "esah_ksSPa3Z"
   },
   "source": [
    "## **Compiling the model**\n",
    "\n",
    "Keras is built on top of Theano and TensorFlow. Both packages allow you to define a *computation graph* in Python, which then compiles and runs efficiently on the CPU or GPU without the overhead of the Python interpreter.\n",
    "\n",
    "When compiing a model, Keras asks you to specify your **loss function** and your **optimizer**. The loss function we'll use here is called *categorical cross-entropy*, and is a loss function well-suited to comparing two probability distributions.\n",
    "\n",
    "Our predictions are probability distributions across the ten different digits (e.g. \"we're 80% confident this image is a 3, 10% sure it's an 8, 5% it's a 2, etc.\"), and the target is a probability distribution with 100% for the correct category, and 0 for everything else. The cross-entropy is a measure of how different your predicted distribution is from the target distribution.\n",
    "\n",
    "The optimizer helps determine how quickly the model learns through **gradient descent**. The rate at which descends a gradient is called the **learning rate**."
   ]
  },
  {
   "cell_type": "markdown",
   "metadata": {
    "id": "N8IcYtifPa3a"
   },
   "source": [
    "So are smaller learning rates better? Not quite! It's important for an optimizer not to get stuck in local minima while neglecting the global minimum of the loss function. Sometimes that means trying a larger learning rate to jump out of a local minimum."
   ]
  },
  {
   "cell_type": "markdown",
   "metadata": {
    "id": "1YXskuMbQJ38"
   },
   "source": [
    "**Adam** is a replacement optimization algorithm for stochastic gradient descent for training deep learning models. Adam combines the best properties of the AdaGrad and RMSProp algorithms to provide an optimization algorithm that can handle sparse gradients on noisy problems."
   ]
  },
  {
   "cell_type": "markdown",
   "metadata": {
    "id": "Br7xkF1HQJ_-"
   },
   "source": [
    "**Categorical crossentropy** is a loss function that is used in multi-class classification tasks. These are tasks where an example can only belong to one out of many possible categories, and the model must decide which one. Formally, it is designed to quantify the difference between two probability distributions."
   ]
  },
  {
   "cell_type": "markdown",
   "metadata": {
    "id": "oPLTQQtjQKHD"
   },
   "source": [
    "**A metric** is a function that is used to judge the performance of your model. Metric functions are similar to loss functions, except that the results from evaluating a metric are not used when training the model."
   ]
  },
  {
   "cell_type": "code",
   "execution_count": 16,
   "metadata": {
    "collapsed": true,
    "id": "Zic5tQeBPa3c"
   },
   "outputs": [],
   "source": [
    "# Let's use the Adam optimizer for learning\n",
    "model.compile(loss='categorical_crossentropy', optimizer='adam', metrics=['accuracy'])"
   ]
  },
  {
   "cell_type": "markdown",
   "metadata": {
    "id": "TarISnlvPa3c"
   },
   "source": [
    "## **Train the model**\n"
   ]
  },
  {
   "cell_type": "markdown",
   "metadata": {
    "id": "_nkBc7VzPa3c"
   },
   "source": [
    "The batch size determines over how much data per step is used to compute the loss function, gradients, and back propagation. Large batch sizes allow the network to complete it's training faster; however, there are other factors beyond training speed to consider.\n",
    "\n",
    "Too large of a batch size smoothes the local minima of the loss function, causing the optimizer to settle in one because it thinks it found the global minimum.\n",
    "\n",
    "Too small of a batch size creates a very noisy loss function, and the optimizer may never find the global minimum.\n",
    "\n",
    "So a good batch size may take some trial and error to find!"
   ]
  },
  {
   "cell_type": "markdown",
   "metadata": {
    "id": "PFHEdIseTolj"
   },
   "source": [
    "**An epoch** is when all the training data is used at once and is defined as the total number of iterations of all the training data in one cycle for training the machine learning model. Another way to define an epoch is the number of passes a training dataset takes around an algorithm"
   ]
  },
  {
   "cell_type": "markdown",
   "metadata": {
    "id": "RjsXqWewTftY"
   },
   "source": [
    "**verbose** is the choice that how you want to see the output of your Nural Network while it's training. If you set verbose = 0, It will show nothing."
   ]
  },
  {
   "cell_type": "markdown",
   "metadata": {
    "id": "DPewN_XnT1gi"
   },
   "source": [
    "**The batch size** is a number of samples processed before the model is updated. The number of epochs is the number of complete passes through the training dataset. The size of a batch must be more than or equal to one and less than or equal to the number of samples in the training dataset"
   ]
  },
  {
   "cell_type": "code",
   "execution_count": 17,
   "metadata": {
    "colab": {
     "base_uri": "https://localhost:8080/"
    },
    "id": "Coh7kOuIPa3d",
    "outputId": "670d2f80-481d-4a5b-e4f6-02603f9180e1"
   },
   "outputs": [
    {
     "name": "stdout",
     "output_type": "stream",
     "text": [
      "Epoch 1/5\n",
      "469/469 [==============================] - 8s 16ms/step - loss: 0.2497 - accuracy: 0.9241\n",
      "Epoch 2/5\n",
      "469/469 [==============================] - 11s 23ms/step - loss: 0.1018 - accuracy: 0.9692\n",
      "Epoch 3/5\n",
      "469/469 [==============================] - 7s 15ms/step - loss: 0.0740 - accuracy: 0.9765\n",
      "Epoch 4/5\n",
      "469/469 [==============================] - 6s 13ms/step - loss: 0.0557 - accuracy: 0.9821\n",
      "Epoch 5/5\n",
      "469/469 [==============================] - 6s 13ms/step - loss: 0.0468 - accuracy: 0.9848\n"
     ]
    },
    {
     "data": {
      "text/plain": [
       "<keras.callbacks.History at 0x7f12f35e7ad0>"
      ]
     },
     "execution_count": 17,
     "metadata": {},
     "output_type": "execute_result"
    }
   ],
   "source": [
    "model.fit(X_train, Y_train,\n",
    "          batch_size=128, epochs=5,\n",
    "          verbose=1)"
   ]
  },
  {
   "cell_type": "markdown",
   "metadata": {
    "id": "vMma6mwwPa3d"
   },
   "source": [
    "The two numbers, in order, represent the value of the loss function of the network on the training set, and the overall accuracy of the network on the training data. But how does it do on data it did not train on?"
   ]
  },
  {
   "cell_type": "markdown",
   "metadata": {
    "id": "Z_ruqcYdPa3e"
   },
   "source": [
    "## **Evaluate Model's Accuracy on Test Data**"
   ]
  },
  {
   "cell_type": "code",
   "execution_count": 18,
   "metadata": {
    "colab": {
     "base_uri": "https://localhost:8080/"
    },
    "id": "TroJFOfDPa3e",
    "outputId": "ad58a6d6-5126-4bfd-83de-65d645c42c08"
   },
   "outputs": [
    {
     "name": "stdout",
     "output_type": "stream",
     "text": [
      "313/313 [==============================] - 1s 3ms/step - loss: 0.0708 - accuracy: 0.9787\n",
      "Test score: 0.07081123441457748\n",
      "Test accuracy: 0.9786999821662903\n"
     ]
    }
   ],
   "source": [
    "score = model.evaluate(X_test, Y_test)\n",
    "print('Test score:', score[0])\n",
    "print('Test accuracy:', score[1])"
   ]
  },
  {
   "cell_type": "markdown",
   "metadata": {
    "id": "e-MQH_r4Pa3e"
   },
   "source": [
    "### **Inspecting the output**\n",
    "\n",
    "It's always a good idea to inspect the output and make sure everything looks sane. Here we'll look at some examples it gets right, and some examples it gets wrong."
   ]
  },
  {
   "cell_type": "code",
   "execution_count": 19,
   "metadata": {
    "colab": {
     "base_uri": "https://localhost:8080/"
    },
    "collapsed": true,
    "id": "GxERlcVOPa3e",
    "outputId": "900b1790-8bf1-4f84-9b6a-afccaa5763f4"
   },
   "outputs": [
    {
     "name": "stdout",
     "output_type": "stream",
     "text": [
      "313/313 [==============================] - 1s 3ms/step\n"
     ]
    }
   ],
   "source": [
    "# The predict_classes function outputs the highest probability class\n",
    "# according to the trained classifier for each input example.\n",
    "predicted_x = model.predict(X_test)\n",
    "predicted_classes = np.argmax(predicted_x,axis=1)\n",
    "# Check which items we got right / wrong\n",
    "correct_indices = np.nonzero(predicted_classes == y_test)[0]\n",
    "\n",
    "incorrect_indices = np.nonzero(predicted_classes != y_test)[0]"
   ]
  },
  {
   "cell_type": "markdown",
   "metadata": {
    "id": "2yoIVfchUsMb"
   },
   "source": [
    "**cmap** stands for colormap and it's a colormap instance or registered colormap name (cmap will only work if c is an array of floats). Matplotlib colormaps are divided into the following categories: sequential, diverging, and qualitative."
   ]
  },
  {
   "cell_type": "code",
   "execution_count": 20,
   "metadata": {
    "colab": {
     "base_uri": "https://localhost:8080/",
     "height": 1000
    },
    "id": "PFrlWx9dPa3f",
    "outputId": "1bbb3ec5-93f5-406c-cb07-e86f9011b0d7"
   },
   "outputs": [
    {
     "data": {
      "image/png": "[encoded data removed]",
      "text/plain": [
       "<Figure size 648x648 with 9 Axes>"
      ]
     },
     "metadata": {
      "needs_background": "light"
     },
     "output_type": "display_data"
    },
    {
     "data": {
      "image/png": "[encoded data removed]",
      "text/plain": [
       "<Figure size 648x648 with 9 Axes>"
      ]
     },
     "metadata": {
      "needs_background": "light"
     },
     "output_type": "display_data"
    }
   ],
   "source": [
    "plt.figure()\n",
    "for i, correct in enumerate(correct_indices[:9]):\n",
    "    plt.subplot(3,3,i+1)\n",
    "    plt.imshow(X_test[correct].reshape(28,28), cmap='gray', interpolation='none')\n",
    "    plt.title(\"Predicted {}, Class {}\".format(predicted_classes[correct], y_test[correct]))\n",
    "    \n",
    "plt.tight_layout()\n",
    "    \n",
    "plt.figure()\n",
    "for i, incorrect in enumerate(incorrect_indices[:9]):\n",
    "    plt.subplot(3,3,i+1)\n",
    "    plt.imshow(X_test[incorrect].reshape(28,28), cmap='gray', interpolation='none')\n",
    "    plt.title(\"Predicted {}, Class {}\".format(predicted_classes[incorrect], y_test[incorrect]))\n",
    "    \n",
    "plt.tight_layout()"
   ]
  },
  {
   "cell_type": "markdown",
   "metadata": {
    "id": "YRIePtdkPa3f"
   },
   "source": [
    "## **Trying experimenting with the batch size**\n",
    "\n",
    "#### How does increasing the batch size to 10,000 affect the training time and test accuracy?\n",
    "\n",
    "#### How about a batch size of 32?"
   ]
  },
  {
   "cell_type": "markdown",
   "metadata": {
    "id": "wGC54jPBPa3g"
   },
   "source": [
    "# **Introducing Convolution**"
   ]
  },
  {
   "cell_type": "markdown",
   "metadata": {
    "id": "4Uc5Ht4vPa3g"
   },
   "source": [
    "Before, we built a network that accepts the normalized pixel values of each value and operates soley on those values. What if we could instead feed different features (e.g. **curvature, edges**) of each image into a network, and have the network learn which features are important for classifying an image?\n",
    "\n",
    "This possible through convolution! Convolution applies **kernels** (filters) that traverse through each image and generate **feature maps**."
   ]
  },
  {
   "cell_type": "markdown",
   "metadata": {
    "id": "mydVFjz2Pa3g"
   },
   "source": [
    "Let consider the image is a 5 x 5 matrix and the kernel going over it is a 3 x 3 matrix. A dot product operation takes place between the image and the kernel and the convolved feature is generated. Each kernel in a CNN learns a different characteristic of an image.\n",
    "\n",
    "Kernels are often used in photoediting software to apply blurring, edge detection, sharpening, etc."
   ]
  },
  {
   "cell_type": "markdown",
   "metadata": {
    "id": "GvWymyaTPa3h"
   },
   "source": [
    "Kernels in deep learning networks are used in similar ways, i.e. highlighting some feature. Combined with a system called **max pooling**, the non-highlighted elements are discarded from each feature map, leaving only the features of interest, reducing the number of learned parameters, and decreasing the computational cost (e.g. system memory)."
   ]
  },
  {
   "cell_type": "markdown",
   "metadata": {
    "id": "es5JSSmUPa3i"
   },
   "source": [
    "We can also take convolutions of convolutions -- we can stack as many convolutions as we want, as long as there are enough pixels to fit a kernel."
   ]
  },
  {
   "cell_type": "markdown",
   "metadata": {
    "id": "nO-s7-kkWR6J"
   },
   "source": [
    "**What Is a Convolution?**\n",
    "\n",
    "Convolution is an orderly procedure where two sources of information are intertwined; it’s an operation that changes a function into something else. Convolutions have been used for a long time typically in image processing to blur and sharpen images, but also to perform other operations. (e.g. enhance edges and emboss) CNNs enforce a local connectivity pattern between neurons of adjacent layers."
   ]
  },
  {
   "cell_type": "markdown",
   "metadata": {
    "id": "KhjABI0KWi1i"
   },
   "source": [
    "CNNs make use of filters (also known as kernels), to detect what features, such as edges, are present throughout an image. There are four main operations in a CNN:  \n",
    "\n",
    "* Convolution\n",
    "\n",
    "* Non Linearity (ReLU)\n",
    "\n",
    "* Pooling or Sub Sampling\n",
    "\n",
    "* Classification (Fully Connected Layer)\n",
    "\n",
    "The first layer of a Convolutional Neural Network is always a Convolutional Layer. Convolutional layers apply a convolution operation to the input, passing the result to the next layer. A convolution converts all the pixels in its receptive field into a single value. For example, if you would apply a convolution to an image, you will be decreasing the image size as well as bringing all the information in the field together into a single pixel. The final output of the convolutional layer is a vector. Based on the type of problem we need to solve and on the kind of features we are looking to learn, we can use different kinds of convolutions.\n",
    "\n",
    "**The 2D Convolution Layer**\n",
    "\n",
    "The most common type of convolution that is used is the 2D convolution layer and is usually abbreviated as conv2D. A filter or a kernel in a conv2D layer “slides” over the 2D input data, performing an elementwise multiplication. As a result, it will be summing up the results into a single output pixel. The kernel will perform the same operation for every location it slides over, transforming a 2D matrix of features into a different 2D matrix of features.\n",
    "\n",
    "**The Dilated or Atrous Convolution**\n",
    "This operation expands window size without increasing the number of weights by inserting zero-values into convolution kernels. Dilated or Atrous Convolutions can be used in real time applications and in applications where the processing power is less as the RAM requirements are less intensive.\n",
    "\n",
    "**Separable Convolutions**\n",
    "\n",
    "There are two main types of separable convolutions: spatial separable convolutions, and depthwise separable convolutions. The spatial separable convolution deals primarily with the spatial dimensions of an image and kernel: the width and the height. Compared to spatial separable convolutions, depthwise separable convolutions work with kernels that cannot be “factored” into two smaller kernels. As a result, it is more frequently used.\n",
    "\n",
    "**Transposed Convolutions**\n",
    "\n",
    "These types of comvolutions are also known as deconvolutions or fractionally strided convolutions. A transposed convolutional layer carries out a regular convolution but reverts its spatial transformation.  "
   ]
  },
  {
   "cell_type": "markdown",
   "metadata": {
    "id": "CSKyAOs6Pa3i"
   },
   "source": [
    "## **Building a \"Deep\" Convolutional Neural Network**"
   ]
  },
  {
   "cell_type": "markdown",
   "metadata": {
    "id": "wEgoTpm1PEbs"
   },
   "source": [
    "**What is Normalization vs Batch Normalization?**\n",
    "* **Normalization** is a procedure to change the value of the numeric variable in the dataset to a typical scale, without misshaping contrasts in the range of value.\n",
    "\n",
    "* **Batch normalization** is a technique for training very deep neural networks that normalizes the contributions to a layer for every mini-batch. This has the impact of settling the learning process and drastically decreasing the number of training epochs required to train deep neural networks."
   ]
  },
  {
   "cell_type": "markdown",
   "metadata": {
    "id": "WPkX8yD_QdPx"
   },
   "source": [
    "**How is batch normalization performed in deep neural networks?**\n",
    "\n",
    "* It does this scaling the output of the layer, explicitly by normalizing \n",
    "the activations of each input variable per mini-batch, for example, the enactments of a node from the last layer. Review that normalization alludes to rescaling data to have a mean of zero and a standard deviation of one.\n",
    "\n",
    "* By brightening the inputs to each layer, it would make a stride towards accomplishing the fixed distributions of inputs that would evacuate the ill impacts of the internal covariate shift.\n",
    "\n",
    "* Normalizing the activations of the earlier layer implies that presumptions the ensuing layer makes about the spread and distribution of inputs during the weight update won’t change, in any event not significantly. This has the impact of stabilizing and accelerating the preparation training procedure of deep neural networks.\n",
    "\n",
    "* For little smaller mini-batches that don’t contain an agent distribution of models from the training dataset, the distinctions in the normalized inputs among training and inference (utilizing the model subsequent to training) can bring about perceptible contrasts in execution performance. This can be tended to with a change of the technique called Batch Renormalization that makes the appraisals of the variable mean and standard deviation increasingly stable across mini-batches.\n",
    "\n",
    "* This normalization of inputs might be applied to the input variable for the first hidden layer or to the activation from a hidden layer for more profound layers.\n",
    "\n",
    "* It tends to be utilized with most deep network types, for example, Convolutional Neural Networks (CNN) and Recurrent Neural Networks (RNN).\n",
    "\n",
    "* It might be utilized on the inputs to the layer previously or after the activation function in the past layer.\n",
    "\n",
    "* It might be increasingly proper after the activation function if for s-formed capacities like the hyperbolic tangent and logistic function.\n",
    "\n",
    "* It might be fit prior to the activation function for activations that may rise in non-Gaussian scatterings like the rectified linear activation function (ReLU), the front line default for most deep neural network types.\n",
    "\n",
    "* It offers some regularization impact, lessening generalization error, maybe done requiring the utilization of dropout for regularization.\n",
    "\n",
    "* In the batch normalized network, the mean and variances remain moderately steady all through the network. For an unnormalized network, they seem to develop exponentially with profundity."
   ]
  },
  {
   "cell_type": "code",
   "execution_count": 21,
   "metadata": {
    "collapsed": true,
    "id": "GSe54S84Pa3j"
   },
   "outputs": [],
   "source": [
    "# import some additional tools\n",
    "\n",
    "from keras.preprocessing.image import ImageDataGenerator\n",
    "from keras.layers import Conv2D, MaxPooling2D, ZeroPadding2D, GlobalAveragePooling2D, Flatten\n",
    "from keras.layers.normalization.batch_normalization import BatchNormalization"
   ]
  },
  {
   "cell_type": "code",
   "execution_count": 22,
   "metadata": {
    "collapsed": true,
    "id": "WC1A7b9-Pa3j"
   },
   "outputs": [],
   "source": [
    "# Reload the MNIST data\n",
    "(X_train, y_train), (X_test, y_test) = mnist.load_data()"
   ]
  },
  {
   "cell_type": "code",
   "execution_count": 23,
   "metadata": {
    "colab": {
     "base_uri": "https://localhost:8080/"
    },
    "id": "qHhb_BXxPa3j",
    "outputId": "40ce40af-dd16-4490-a085-61962d484d72"
   },
   "outputs": [
    {
     "name": "stdout",
     "output_type": "stream",
     "text": [
      "Training matrix shape (60000, 28, 28, 1)\n",
      "Testing matrix shape (10000, 28, 28, 1)\n"
     ]
    }
   ],
   "source": [
    "# Again, do some formatting\n",
    "# Except we do not flatten each image into a 784-length vector because we want to perform convolutions first\n",
    "\n",
    "X_train = X_train.reshape(60000, 28, 28, 1) #add an additional dimension to represent the single-channel\n",
    "X_test = X_test.reshape(10000, 28, 28, 1)\n",
    "\n",
    "X_train = X_train.astype('float32')         # change integers to 32-bit floating point numbers\n",
    "X_test = X_test.astype('float32')\n",
    "\n",
    "X_train /= 255                              # normalize each value for each pixel for the entire vector for each input\n",
    "X_test /= 255\n",
    "\n",
    "print(\"Training matrix shape\", X_train.shape)\n",
    "print(\"Testing matrix shape\", X_test.shape)"
   ]
  },
  {
   "cell_type": "code",
   "execution_count": 24,
   "metadata": {
    "collapsed": true,
    "id": "FDSeRkvqPa3k"
   },
   "outputs": [],
   "source": [
    "# one-hot format classes\n",
    "\n",
    "nb_classes = 10 # number of unique digits\n",
    "\n",
    "Y_train = np_utils.to_categorical(y_train, nb_classes)\n",
    "Y_test = np_utils.to_categorical(y_test, nb_classes)"
   ]
  },
  {
   "cell_type": "code",
   "execution_count": 25,
   "metadata": {
    "collapsed": true,
    "id": "1_yFrJ6UPa3k"
   },
   "outputs": [],
   "source": [
    "model = Sequential()                                 # Linear stacking of layers\n",
    "\n",
    "# Convolution Layer 1\n",
    "model.add(Conv2D(32, (3, 3), input_shape=(28,28,1))) # 32 different 3x3 kernels -- so 32 feature maps\n",
    "model.add(BatchNormalization(axis=-1))               # normalize each feature map before activation\n",
    "convLayer01 = Activation('relu')                     # activation\n",
    "model.add(convLayer01)\n",
    "\n",
    "# Convolution Layer 2\n",
    "model.add(Conv2D(32, (3, 3)))                        # 32 different 3x3 kernels -- so 32 feature maps\n",
    "model.add(BatchNormalization(axis=-1))               # normalize each feature map before activation\n",
    "model.add(Activation('relu'))                        # activation\n",
    "convLayer02 = MaxPooling2D(pool_size=(2,2))          # Pool the max values over a 2x2 kernel\n",
    "model.add(convLayer02)\n",
    "\n",
    "# Convolution Layer 3\n",
    "model.add(Conv2D(64,(3, 3)))                         # 64 different 3x3 kernels -- so 64 feature maps\n",
    "model.add(BatchNormalization(axis=-1))               # normalize each feature map before activation\n",
    "convLayer03 = Activation('relu')                     # activation\n",
    "model.add(convLayer03)\n",
    "\n",
    "# Convolution Layer 4\n",
    "model.add(Conv2D(64, (3, 3)))                        # 64 different 3x3 kernels -- so 64 feature maps\n",
    "model.add(BatchNormalization(axis=-1))               # normalize each feature map before activation\n",
    "model.add(Activation('relu'))                        # activation\n",
    "convLayer04 = MaxPooling2D(pool_size=(2,2))          # Pool the max values over a 2x2 kernel\n",
    "model.add(convLayer04)\n",
    "model.add(Flatten())                                 # Flatten final 4x4x64 output matrix into a 1024-length vector\n",
    "\n",
    "# Fully Connected Layer 5\n",
    "model.add(Dense(512))                                # 512 FCN nodes\n",
    "model.add(BatchNormalization())                      # normalization\n",
    "model.add(Activation('relu'))                        # activation\n",
    "\n",
    "# Fully Connected Layer 6                       \n",
    "model.add(Dropout(0.2))                              # 20% dropout of randomly selected nodes\n",
    "model.add(Dense(10))                                 # final 10 FCN nodes\n",
    "model.add(Activation('softmax'))                     # softmax activation"
   ]
  },
  {
   "cell_type": "code",
   "execution_count": 26,
   "metadata": {
    "colab": {
     "base_uri": "https://localhost:8080/"
    },
    "id": "xIpGN2rIPa3l",
    "outputId": "d372913a-7680-479f-dccb-e2a6085f60df"
   },
   "outputs": [
    {
     "name": "stdout",
     "output_type": "stream",
     "text": [
      "Model: \"sequential_1\"\n",
      "_________________________________________________________________\n",
      " Layer (type)                Output Shape              Param #   \n",
      "=================================================================\n",
      " conv2d (Conv2D)             (None, 26, 26, 32)        320       \n",
      "                                                                 \n",
      " batch_normalization (BatchN  (None, 26, 26, 32)       128       \n",
      " ormalization)                                                   \n",
      "                                                                 \n",
      " activation_3 (Activation)   (None, 26, 26, 32)        0         \n",
      "                                                                 \n",
      " conv2d_1 (Conv2D)           (None, 24, 24, 32)        9248      \n",
      "                                                                 \n",
      " batch_normalization_1 (Batc  (None, 24, 24, 32)       128       \n",
      " hNormalization)                                                 \n",
      "                                                                 \n",
      " activation_4 (Activation)   (None, 24, 24, 32)        0         \n",
      "                                                                 \n",
      " max_pooling2d (MaxPooling2D  (None, 12, 12, 32)       0         \n",
      " )                                                               \n",
      "                                                                 \n",
      " conv2d_2 (Conv2D)           (None, 10, 10, 64)        18496     \n",
      "                                                                 \n",
      " batch_normalization_2 (Batc  (None, 10, 10, 64)       256       \n",
      " hNormalization)                                                 \n",
      "                                                                 \n",
      " activation_5 (Activation)   (None, 10, 10, 64)        0         \n",
      "                                                                 \n",
      " conv2d_3 (Conv2D)           (None, 8, 8, 64)          36928     \n",
      "                                                                 \n",
      " batch_normalization_3 (Batc  (None, 8, 8, 64)         256       \n",
      " hNormalization)                                                 \n",
      "                                                                 \n",
      " activation_6 (Activation)   (None, 8, 8, 64)          0         \n",
      "                                                                 \n",
      " max_pooling2d_1 (MaxPooling  (None, 4, 4, 64)         0         \n",
      " 2D)                                                             \n",
      "                                                                 \n",
      " flatten (Flatten)           (None, 1024)              0         \n",
      "                                                                 \n",
      " dense_3 (Dense)             (None, 512)               524800    \n",
      "                                                                 \n",
      " batch_normalization_4 (Batc  (None, 512)              2048      \n",
      " hNormalization)                                                 \n",
      "                                                                 \n",
      " activation_7 (Activation)   (None, 512)               0         \n",
      "                                                                 \n",
      " dropout_2 (Dropout)         (None, 512)               0         \n",
      "                                                                 \n",
      " dense_4 (Dense)             (None, 10)                5130      \n",
      "                                                                 \n",
      " activation_8 (Activation)   (None, 10)                0         \n",
      "                                                                 \n",
      "=================================================================\n",
      "Total params: 597,738\n",
      "Trainable params: 596,330\n",
      "Non-trainable params: 1,408\n",
      "_________________________________________________________________\n"
     ]
    }
   ],
   "source": [
    "model.summary()"
   ]
  },
  {
   "cell_type": "code",
   "execution_count": 27,
   "metadata": {
    "collapsed": true,
    "id": "U9nzAs6HPa3m"
   },
   "outputs": [],
   "source": [
    "# we'll use the same optimizer\n",
    "\n",
    "model.compile(loss='categorical_crossentropy', optimizer='adam', metrics=['accuracy'])"
   ]
  },
  {
   "cell_type": "code",
   "execution_count": 28,
   "metadata": {
    "collapsed": true,
    "id": "r8-iidAvPa3o"
   },
   "outputs": [],
   "source": [
    "# data augmentation prevents overfitting by slightly changing the data randomly\n",
    "# Keras has a great built-in feature to do automatic augmentation\n",
    "\n",
    "gen = ImageDataGenerator(rotation_range=8, width_shift_range=0.08, shear_range=0.3,\n",
    "                         height_shift_range=0.08, zoom_range=0.08)\n",
    "\n",
    "test_gen = ImageDataGenerator()"
   ]
  },
  {
   "cell_type": "code",
   "execution_count": 29,
   "metadata": {
    "colab": {
     "base_uri": "https://localhost:8080/"
    },
    "collapsed": true,
    "id": "TN0PHqnyPa3p",
    "outputId": "8a56be5a-afb6-4050-afd5-d919f27c1448"
   },
   "outputs": [
    {
     "data": {
      "text/plain": [
       "<keras.preprocessing.image.NumpyArrayIterator at 0x7f12f2dc7a10>"
      ]
     },
     "execution_count": 29,
     "metadata": {},
     "output_type": "execute_result"
    }
   ],
   "source": [
    "# We can then feed our augmented data in batches\n",
    "# Besides loss function considerations as before, this method actually results in significant memory savings\n",
    "# because we are actually LOADING the data into the network in batches before processing each batch\n",
    "\n",
    "# Before the data was all loaded into memory, but then processed in batches.\n",
    "\n",
    "train_generator = gen.flow(X_train, Y_train, batch_size=128)\n",
    "test_generator = test_gen.flow(X_test, Y_test, batch_size=128)\n",
    "test_generator"
   ]
  },
  {
   "cell_type": "code",
   "execution_count": 30,
   "metadata": {
    "colab": {
     "base_uri": "https://localhost:8080/"
    },
    "id": "BHvXokcJPa3p",
    "outputId": "dabcd148-5a4b-4c2a-91ed-4ab46b0c0ddf"
   },
   "outputs": [
    {
     "name": "stdout",
     "output_type": "stream",
     "text": [
      "Epoch 1/5\n"
     ]
    },
    {
     "name": "stderr",
     "output_type": "stream",
     "text": [
      "/usr/local/lib/python3.7/dist-packages/ipykernel_launcher.py:7: UserWarning: `Model.fit_generator` is deprecated and will be removed in a future version. Please use `Model.fit`, which supports generators.\n",
      "  import sys\n"
     ]
    },
    {
     "name": "stdout",
     "output_type": "stream",
     "text": [
      "468/468 [==============================] - 137s 292ms/step - loss: 0.1274 - accuracy: 0.9606 - val_loss: 0.2186 - val_accuracy: 0.9247\n",
      "Epoch 2/5\n",
      "468/468 [==============================] - 136s 291ms/step - loss: 0.0490 - accuracy: 0.9850 - val_loss: 0.0644 - val_accuracy: 0.9801\n",
      "Epoch 3/5\n",
      "468/468 [==============================] - 135s 289ms/step - loss: 0.0398 - accuracy: 0.9876 - val_loss: 0.0230 - val_accuracy: 0.9928\n",
      "Epoch 4/5\n",
      "468/468 [==============================] - 136s 291ms/step - loss: 0.0324 - accuracy: 0.9896 - val_loss: 0.0515 - val_accuracy: 0.9835\n",
      "Epoch 5/5\n",
      "468/468 [==============================] - 135s 289ms/step - loss: 0.0294 - accuracy: 0.9905 - val_loss: 0.0162 - val_accuracy: 0.9940\n"
     ]
    },
    {
     "data": {
      "text/plain": [
       "<keras.callbacks.History at 0x7f12f2e74bd0>"
      ]
     },
     "execution_count": 30,
     "metadata": {},
     "output_type": "execute_result"
    }
   ],
   "source": [
    "# We can now train our model which is fed data by our batch loader\n",
    "# Steps per epoch should always be total size of the set divided by the batch size\n",
    "\n",
    "# SIGNIFICANT MEMORY SAVINGS (important for larger, deeper networks)\n",
    "\n",
    "model.fit_generator(train_generator, steps_per_epoch=60000//128, epochs=5, verbose=1, \n",
    "                    validation_data=test_generator, validation_steps=10000//128)"
   ]
  },
  {
   "cell_type": "code",
   "execution_count": 31,
   "metadata": {
    "colab": {
     "base_uri": "https://localhost:8080/"
    },
    "id": "gC0HJr0JPa3q",
    "outputId": "b3d85bdd-d72a-4dfa-c9f0-f2eb13e73faa"
   },
   "outputs": [
    {
     "name": "stdout",
     "output_type": "stream",
     "text": [
      "313/313 [==============================] - 7s 21ms/step - loss: 0.0162 - accuracy: 0.9940\n",
      "Test score: 0.01617486961185932\n",
      "Test accuracy: 0.9940000176429749\n"
     ]
    }
   ],
   "source": [
    "score = model.evaluate(X_test, Y_test)\n",
    "print('Test score:', score[0])\n",
    "print('Test accuracy:', score[1])"
   ]
  },
  {
   "cell_type": "markdown",
   "metadata": {
    "id": "3oGID4Q3b8mo"
   },
   "source": [
    "Since, the **Test score is 0.0161** and **Test accuracy is 0.9940**. Hence the model is fitted well ."
   ]
  },
  {
   "cell_type": "markdown",
   "metadata": {
    "id": "0ksoxy1BACnP"
   },
   "source": [
    "#### **<h1><center><u>THANK YOU!</u></center></h1>**"
   ]
  }
 ],
 "metadata": {
  "colab": {
   "provenance": []
  },
  "kernelspec": {
   "display_name": "Python 3",
   "language": "python",
   "name": "python3"
  },
  "language_info": {
   "codemirror_mode": {
    "name": "ipython",
    "version": 3
   },
   "file_extension": ".py",
   "mimetype": "text/x-python",
   "name": "python",
   "nbconvert_exporter": "python",
   "pygments_lexer": "ipython3",
   "version": "3.8.8"
  }
 },
 "nbformat": 4,
 "nbformat_minor": 1
}
